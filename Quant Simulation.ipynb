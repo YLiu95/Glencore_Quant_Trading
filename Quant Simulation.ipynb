{
 "cells": [
  {
   "cell_type": "markdown",
   "id": "1c2b5a44",
   "metadata": {},
   "source": [
    "---"
   ]
  },
  {
   "cell_type": "markdown",
   "id": "727d055b",
   "metadata": {
    "deletable": false,
    "editable": false,
    "nbgrader": {
     "cell_type": "markdown",
     "checksum": "926cbdea90eceb930128c0b69ced586f",
     "grade": false,
     "grade_id": "cell-cb175c2127879ff7",
     "locked": true,
     "schema_version": 3,
     "solution": false,
     "task": false
    }
   },
   "source": [
    "# Welcome to the Quantitative Trading Simulation\n",
    "\n",
    "In this notebook you will find several challenges designed to test your skills and knowledge of Quantitative Trading and Python. The goal is to complete as many of the challenges as possible in the allocated time.\n",
    "\n",
    "To start let's import the packages to be used within this notebook in the step below."
   ]
  },
  {
   "cell_type": "code",
   "execution_count": null,
   "id": "4df04cf2",
   "metadata": {
    "deletable": false,
    "editable": false,
    "nbgrader": {
     "cell_type": "code",
     "checksum": "ac96316eda137962c96d7cd376b64275",
     "grade": false,
     "grade_id": "cell-af1c7ff5f36114a6",
     "locked": true,
     "schema_version": 3,
     "solution": false,
     "task": false
    }
   },
   "outputs": [],
   "source": [
    "# The code in this cell is used to import the packages to be used throughout this notebook.\n",
    "# The following are private packages available only during this simnulation:\n",
    "from AmplifyQuantTrading import Data\n",
    "# The following are publicly available packages:\n",
    "from matplotlib import pyplot as plt\n",
    "import pandas\n",
    "# The code in this cell is used to import the packages to be used throughout this task.\n",
    "from AmplifyArbitrageTrading import HedgeFund\n",
    "# The code in this cell assigns the Data.price_series_arbitrage_df_glencore() to the prices variable.\n",
    "prices = Data.price_series_arbitrage_df_glencore()"
   ]
  },
  {
   "cell_type": "code",
   "execution_count": null,
   "id": "c480256c",
   "metadata": {
    "deletable": false,
    "editable": false,
    "nbgrader": {
     "cell_type": "code",
     "checksum": "89f388eeef6067f145c6aecce63d015f",
     "grade": true,
     "grade_id": "cell-d6692fa4f85d00bf",
     "locked": true,
     "points": 0,
     "schema_version": 3,
     "solution": false,
     "task": false
    }
   },
   "outputs": [],
   "source": [
    "# HIDDEN PARAMS BOX"
   ]
  },
  {
   "cell_type": "markdown",
   "id": "0c90641d",
   "metadata": {
    "deletable": false,
    "editable": false,
    "nbgrader": {
     "cell_type": "markdown",
     "checksum": "2e61fc8336b1d781a0615300f09a9456",
     "grade": false,
     "grade_id": "cell-784d34bec02db50c",
     "locked": true,
     "schema_version": 3,
     "solution": false,
     "task": false
    }
   },
   "source": [
    "# Arbitrage Trading Research\n",
    "\n",
    "<hr>\n",
    "\n",
    "Arbitrage is a trading strategy that exploits inefficiencies in the price relationships between highly correlated assets. It involves the simultaneous purchase and sales of related assets to exploit short-lived variations of price. \n",
    "\n",
    "In this simulation you have 4 commodities and an ETF that represents that value of those 4 commodities. In theory therefore, their value should always be equal.\n",
    "\n",
    "<hr>\n",
    "\n",
    "![](https://algo-assets.amplifyme.com/quant/commodity-arb.png)\n",
    "\n",
    "<hr>\n",
    "\n",
    "However, this is not always the case as changes in the ETF may lag its component commodities, especially at times of high volatility.\n",
    "\n",
    "Your challenge is to try and identify when this happens using the data set provided, and formulate an algorithm that can take advantage of the deviation in values between the value of the 4 commodities, and the ETF that is supposed to match that value.\n",
    "\n",
    "For example, if at any point the ETF has a higher value than its components, there would be an arbitrage trading opportunity to sell the ETF and buy the commodities. When the prices have converged you can reverse the position to make a profit from the trade.\n"
   ]
  },
  {
   "cell_type": "markdown",
   "id": "32571fa2",
   "metadata": {
    "deletable": false,
    "editable": false,
    "nbgrader": {
     "cell_type": "markdown",
     "checksum": "c4db184638c082033ab436fb48a831ae",
     "grade": false,
     "grade_id": "cell-54809079f641ef35",
     "locked": true,
     "schema_version": 3,
     "solution": false,
     "task": false
    }
   },
   "source": [
    "### Package: HedgeFund\n",
    "#### Class hf\n",
    "\n",
    "The hf class is used to simulate a high-frequency trading strategy. It contains the following properties:\n",
    "\n",
    "* balance (float): The balance of the trading account, in dollars.\n",
    "* current_positions (dict): A dictionary of CurrentPosition objects, with each key representing a different asset.\n",
    "* commission_percentage (float): The commission percentage to be applied to each trade, expressed\n",
    "\n",
    "\n",
    "\n",
    "###### function hf.execute_order\n",
    "```python\n",
    "execute_order(self, ticker: str, volume: int, action: str, date: int)\n",
    "```\n",
    "This function allows the execution of a trade order for a specific commodity represented by ticker.\n",
    "\n",
    "*Parameters:*\n",
    "* ticker: a string representing the commodity's ticker symbol. The symbol will be automatically converted to uppercase.\n",
    "* volume: an integer representing the number of shares to be traded.\n",
    "* action: a string representing the type of order to be executed. Acceptable values are BUY or SELL. The action will be automatically converted to uppercase.\n",
    "* date: an integer representing the date of the trade.\n",
    "\n",
    "*Returns:*\n",
    "Based on the current position of the commodity and the action provided, the function will determine the trade to be executed. If the trade results in insufficient funds, an exception \"NOT ENOUGH FUNDS TO COMPLETE TRADE\" is raised.\n",
    "\n",
    "<hr>\n",
    "\n",
    "### Package: HedgeFund\n",
    "#### Class CurrentPosition\n",
    "\n",
    "The CurrentPosition class is used to track and manage the positions taken by the hf object. It contains the following properties:\n",
    "\n",
    "* ticker (str): The ticker symbol of the asset being traded.\n",
    "* direction (str): The direction of the trade, either \"LONG\", \"SHORT\", or \"FLAT\".\n",
    "* position_volume (int): The number of shares held in the current position.\n",
    "* open_price (float): The price at which the position was opened.\n",
    "* profit_loss (float): The profit or loss in dollars, calculated as the difference between the open price and the current price.\n",
    "* commission_costs (float): The cumulative commission costs for this position.\n",
    "* trade_history (list): A list of dictionaries, each representing a single trade in this position.  Each dictionary has the following keys:\n",
    "    * action (str): The action taken in this trade, either \"BUY\" or \"SELL\".\n",
    "    * trade_price (float): The price at which the trade was executed.\n",
    "    * trade_volume (int): The number of shares traded in this trade.\n",
    "    * realized_profit_loss (float): The profit or loss realized in this trade, before commission costs.\n",
    "    * realized_profit_loss_after_commission (float): The profit or loss realized in this trade, after commission costs.\n",
    "    * trade_value (float): The value of this trade, calculated as the trade price multiplied by the trade volume.\n",
    "    * commission_costs (float): The commission costs incurred in this trade.\n",
    "    * total_trade_costs (float): The total costs incurred in this trade, including trade value and commission costs.\n",
    "    * date (str): The date on which this trade was executed."
   ]
  },
  {
   "cell_type": "markdown",
   "id": "91bb524e",
   "metadata": {
    "deletable": false,
    "editable": false,
    "nbgrader": {
     "cell_type": "markdown",
     "checksum": "3a879f17f09af403d0913fc511e4245d",
     "grade": false,
     "grade_id": "cell-425bba6b9029029c",
     "locked": true,
     "schema_version": 3,
     "solution": false,
     "task": false
    }
   },
   "source": [
    "### a) Create an algorithm to accurately spot arbitrage opportunities.\n",
    "\n",
    "In the prices dataseries that is being imported below you have access to 6 months of data for the commodities and ETF.\n",
    "\n",
    "You need to replace any ?'s with the correct code, there will be a comment next to or above the ? which will give some guidance. \n",
    "\n",
    "The goal in this task is to use Python to research and identify the potential arbitrage trading opportunities between the ETF and its components.\n",
    "\n",
    "We need to create the core pieces of logic for our algorithm, contained within the functions below."
   ]
  },
  {
   "cell_type": "code",
   "execution_count": null,
   "id": "acef912c",
   "metadata": {
    "deletable": false,
    "editable": false,
    "nbgrader": {
     "cell_type": "code",
     "checksum": "6b828e1c4788bd09bc98374db8538b43",
     "grade": false,
     "grade_id": "cell-3b79c11168dc8153",
     "locked": true,
     "schema_version": 3,
     "solution": false,
     "task": false
    }
   },
   "outputs": [],
   "source": [
    "# The code below creates the HedgeFund object\n",
    "hedge_fund = HedgeFund.hf(data=prices)"
   ]
  },
  {
   "cell_type": "code",
   "execution_count": null,
   "id": "9bebc653",
   "metadata": {
    "deletable": false,
    "nbgrader": {
     "cell_type": "code",
     "checksum": "b0423963becacd4a60602bb1d07e90f4",
     "grade": false,
     "grade_id": "cell-fba883e2cb5ea950",
     "locked": false,
     "schema_version": 3,
     "solution": true,
     "task": false
    }
   },
   "outputs": [],
   "source": [
    "# create function named _rebase(), and pass through variable prices as a parameter\n",
    "def ?:\n",
    "    return (prices / prices[0]) * 100\n",
    "\n",
    "# pass through parameters date, etf_action and component_action\n",
    "def _execute_order(?, ?, ?):\n",
    "    for ticker in prices:\n",
    "        price = prices.loc[date][ticker]\n",
    "        \n",
    "        # Check if the ticker is currently COMMOD-ETF\n",
    "        if ?:\n",
    "            volume = round(1000000 / price)\n",
    "            ? # hf should execute an order here for the etf\n",
    "        else:\n",
    "            volume = round(250000 / price)\n",
    "            ? # hf should execute an order here for the individual component (one of the 4 basket commodities).\n",
    "            \n",
    "# create function named liquidate_positions(), and pass through variable date as a parameter\n",
    "def ?:\n",
    "    ? # loop through every ticker in prices\n",
    "        action = hedge_fund.current_positions[ticker].?  # get direction attribute\n",
    "        volume = ?\n",
    "        \n",
    "        price = prices.loc[?][?]\n",
    "        \n",
    "        # add if condition to check action is LONG\n",
    "        if action == ?:\n",
    "            ? #hf should execute order to SELL\n",
    "        elif ?:\n",
    "            ? #hf should execute order to BUY\n",
    "\n",
    "        # your code here"
   ]
  },
  {
   "cell_type": "markdown",
   "id": "2703d70a",
   "metadata": {
    "deletable": false,
    "editable": false,
    "nbgrader": {
     "cell_type": "markdown",
     "checksum": "17098d452b26eb3b5093e67d29b814fd",
     "grade": false,
     "grade_id": "cell-9690b51524564525",
     "locked": true,
     "schema_version": 3,
     "solution": false,
     "task": false
    }
   },
   "source": [
    "### b) Make use of the functions you previously completed to finish your Arbitrage Strategy which should identify opportunities and execute upon orders successfully. "
   ]
  },
  {
   "cell_type": "code",
   "execution_count": null,
   "id": "0d1722fc",
   "metadata": {
    "deletable": false,
    "nbgrader": {
     "cell_type": "code",
     "checksum": "da2f08d4ae87d3394e478d5b706f4029",
     "grade": false,
     "grade_id": "cell-55fe690e69d641ac",
     "locked": false,
     "schema_version": 3,
     "solution": true,
     "task": false
    }
   },
   "outputs": [],
   "source": [
    "# synthetic etf should be the average of all 4 basket commodity prices.\n",
    "synthetic_etf = (prices[\"BRENT\"] + prices[?] + ? + ?) / 4\n",
    "\n",
    "# use the _rebase() function on the COMMOD-ETF prices\n",
    "rebased_real_etf = ?\n",
    "# use the _rebase() function on the synthtic etf\n",
    "rebased_synthetic_etf = ?\n",
    "\n",
    "# create variable called diff_etf and assign it to the difference between the real and synthetic etf variables.\n",
    "? = ? - ?\n",
    "\n",
    "tradeable = []\n",
    "for index, value in enumerate(diff_etf):\n",
    "    # complete condition that checks if COMMOD-ETF direction/position is currently LONG\n",
    "    if ?:\n",
    "        if value >= -1:\n",
    "            liquidate_positions(diff_etf.index[index])\n",
    "    elif ?:\n",
    "        # complete the condition to check if the value is less than or equal to 1.\n",
    "        if ?:\n",
    "            ? \n",
    "    # complete the condition to check if the value is bigger than or equal to 2.\n",
    "    if ?:\n",
    "        tradeable.append(rebased_real_etf[diff_etf.index[index]])\n",
    "        _execute_order(diff_etf.index[index], \"SELL\", \"BUY\")\n",
    "    # complete the condition to check if the value is less than or equal to -2.\n",
    "    elif ?:\n",
    "        # to the tradeable list append the real etf price at the correct date.\n",
    "        ?\n",
    "        # BUY the etf and SELL the individual component commodities \n",
    "        ?\n",
    "    else:\n",
    "        tradeable.append(None)\n",
    "        # your code here"
   ]
  },
  {
   "cell_type": "code",
   "execution_count": null,
   "id": "61234945",
   "metadata": {
    "deletable": false,
    "editable": false,
    "nbgrader": {
     "cell_type": "code",
     "checksum": "b625ad401fd7443956a5cea5b05308b1",
     "grade": false,
     "grade_id": "cell-a70e88e21d8b7a34",
     "locked": true,
     "schema_version": 3,
     "solution": false,
     "task": false
    }
   },
   "outputs": [],
   "source": [
    "# liquidating any left over positions at the last date\n",
    "liquidate_positions(diff_etf.index[-1])"
   ]
  },
  {
   "cell_type": "markdown",
   "id": "970deae4",
   "metadata": {
    "deletable": false,
    "editable": false,
    "nbgrader": {
     "cell_type": "markdown",
     "checksum": "392447774a9e482712655a4f66658223",
     "grade": false,
     "grade_id": "cell-fab13bcec403cf9e",
     "locked": true,
     "schema_version": 3,
     "solution": false,
     "task": false
    }
   },
   "source": [
    "### c) Create some graphical inputs to help visualise the execution process"
   ]
  },
  {
   "cell_type": "code",
   "execution_count": null,
   "id": "38d6aa32",
   "metadata": {
    "deletable": false,
    "nbgrader": {
     "cell_type": "code",
     "checksum": "d1131785950f937a18df194f04f25a97",
     "grade": false,
     "grade_id": "cell-ce7262c6f3f94687",
     "locked": false,
     "schema_version": 3,
     "solution": true,
     "task": false
    }
   },
   "outputs": [],
   "source": [
    "f, axes = plt.subplots(figsize=(16,9)) # Creates the Axis and sets the figure size\n",
    "axes.plot(prices.index, rebased_real_etf, label=\"REAL\") # Plots the Real ETF\n",
    "# Plot the Synthetic ETF\n",
    "?\n",
    "#Plot the trades which took place, stored in the tradeable list (y data), use label=\"Tradeable\"\n",
    "?\n",
    "axes.legend()\n",
    "\n",
    "f, axes = plt.subplots(figsize=(16,9)) # Creates the Axis and sets the figure size\n",
    "axes.plot(prices.index, tradeable, 'ro')\n",
    "\n",
    "pnl = 0\n",
    "for ticker in prices:\n",
    "    pnl += hedge_fund.current_positions[ticker].profit_loss\n",
    "    # If you wanted to print the Dataframes showing each trade.\n",
    "    # print(pandas.DataFrame.from_records(hedge_fund.current_positions[ticker].trade_history))\n",
    "\n",
    "print(\"Ending Balance: \", hedge_fund.balance)\n",
    "\n",
    "print(\"Total Profit or Loss:\", pnl)\n",
    "# your code here"
   ]
  },
  {
   "cell_type": "code",
   "execution_count": null,
   "id": "57eac4c9",
   "metadata": {
    "deletable": false,
    "editable": false,
    "nbgrader": {
     "cell_type": "code",
     "checksum": "bf80edee61fd2ffcb0408dc6cf4daaf8",
     "grade": true,
     "grade_id": "cell-6709ac225d00327e",
     "locked": true,
     "points": 1,
     "schema_version": 3,
     "solution": false,
     "task": false
    }
   },
   "outputs": [],
   "source": [
    "# GRADING CELL"
   ]
  }
 ],
 "metadata": {
  "kernelspec": {
   "display_name": "Python 3 (ipykernel)",
   "language": "python",
   "name": "python3"
  },
  "language_info": {
   "codemirror_mode": {
    "name": "ipython",
    "version": 3
   },
   "file_extension": ".py",
   "mimetype": "text/x-python",
   "name": "python",
   "nbconvert_exporter": "python",
   "pygments_lexer": "ipython3",
   "version": "3.9.7"
  }
 },
 "nbformat": 4,
 "nbformat_minor": 5
}
